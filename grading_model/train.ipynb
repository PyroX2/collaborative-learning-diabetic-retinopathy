{
 "cells": [
  {
   "cell_type": "markdown",
   "id": "2bf9cafa",
   "metadata": {},
   "source": [
    "# Imports"
   ]
  },
  {
   "cell_type": "code",
   "execution_count": null,
   "id": "1c3153b9",
   "metadata": {},
   "outputs": [],
   "source": [
    "from dataset import GradingDataset\n",
    "from grading_model import GradingModel\n",
    "import torch\n",
    "from torch import nn\n",
    "from torch.utils.data import DataLoader, random_split\n",
    "from torcheval.metrics import MulticlassAccuracy, MulticlassAUPRC, MulticlassAUROC, MulticlassF1Score\n",
    "from torch.utils.tensorboard import SummaryWriter\n",
    "import cv2"
   ]
  },
  {
   "cell_type": "markdown",
   "id": "093f797f",
   "metadata": {},
   "source": [
    "### Modify path so that unet can be impoerted"
   ]
  },
  {
   "cell_type": "code",
   "execution_count": null,
   "id": "f618e0c4",
   "metadata": {},
   "outputs": [],
   "source": [
    "import os\n",
    "import sys\n",
    "\n",
    "project_root = os.path.abspath(os.path.join(os.getcwd(), \"..\"))\n",
    "\n",
    "# Add the project root to sys.path\n",
    "if project_root not in sys.path:\n",
    "    sys.path.insert(0, project_root)"
   ]
  },
  {
   "cell_type": "code",
   "execution_count": null,
   "id": "959ec236",
   "metadata": {},
   "outputs": [],
   "source": [
    "for path in sys.path:\n",
    "    print(path)"
   ]
  },
  {
   "cell_type": "code",
   "execution_count": null,
   "id": "072afa47",
   "metadata": {},
   "outputs": [],
   "source": [
    "from segmentation.unet import UNet"
   ]
  },
  {
   "cell_type": "markdown",
   "id": "ee96a318",
   "metadata": {},
   "source": [
    "# Main code"
   ]
  },
  {
   "cell_type": "code",
   "execution_count": null,
   "id": "8d6d3872",
   "metadata": {},
   "outputs": [],
   "source": [
    "BATCH_SIZE = 1"
   ]
  },
  {
   "cell_type": "code",
   "execution_count": null,
   "id": "e486b6b0",
   "metadata": {},
   "outputs": [],
   "source": [
    "device = \"cuda:0\" if torch.cuda.is_available() else \"cpu\""
   ]
  },
  {
   "cell_type": "code",
   "execution_count": null,
   "id": "b50563e1",
   "metadata": {},
   "outputs": [],
   "source": [
    "train_images_dir = \"/home/wilk/diabetic_retinopathy/datasets/grading/train_set/images\"\n",
    "train_labels_csv = \"/home/wilk/diabetic_retinopathy/datasets/grading/train_set/labels/a. IDRiD_Disease Grading_Training Labels.csv\"\n",
    "\n",
    "test_images_dir = \"/home/wilk/diabetic_retinopathy/datasets/grading/test_set/images\"\n",
    "test_labels_csv = \"/home/wilk/diabetic_retinopathy/datasets/grading/test_set/labels/b. IDRiD_Disease Grading_Testing Labels.csv\""
   ]
  },
  {
   "cell_type": "code",
   "execution_count": null,
   "id": "b00d1f24",
   "metadata": {},
   "outputs": [],
   "source": [
    "train_dataset = GradingDataset(train_images_dir, train_labels_csv)\n",
    "\n",
    "train_dataset, validation_dataset = random_split(train_dataset, [0.8, 0.2])\n",
    "test_dataset = GradingDataset(test_images_dir, test_labels_csv)"
   ]
  },
  {
   "cell_type": "code",
   "execution_count": null,
   "id": "9cdc484f",
   "metadata": {},
   "outputs": [],
   "source": [
    "train_dataloader = DataLoader(train_dataset, BATCH_SIZE, shuffle=True)\n",
    "validation_dataloader = DataLoader(validation_dataset, BATCH_SIZE, shuffle=False)\n",
    "test_dataset = DataLoader(test_dataset, BATCH_SIZE, shuffle=False)"
   ]
  },
  {
   "cell_type": "code",
   "execution_count": null,
   "id": "7ece3a98",
   "metadata": {},
   "outputs": [],
   "source": [
    "grading_model = GradingModel()\n",
    "grading_model.to(device)"
   ]
  },
  {
   "cell_type": "code",
   "execution_count": null,
   "id": "cc926546",
   "metadata": {},
   "outputs": [],
   "source": [
    "segmentation_model = UNet(3, 5)\n",
    "segmentation_model.to(device)\n",
    "segmentation_model.load_state_dict(torch.load(\"/home/wilk/diabetic_retinopathy/segmentation/segmentation_generator.pth\", weights_only=True, map_location=device))"
   ]
  },
  {
   "cell_type": "code",
   "execution_count": null,
   "id": "2993259b",
   "metadata": {},
   "outputs": [],
   "source": [
    "optimizer = torch.optim.Adam(grading_model.parameters(), lr=1e-5)"
   ]
  },
  {
   "cell_type": "code",
   "execution_count": null,
   "id": "72db08ad",
   "metadata": {},
   "outputs": [],
   "source": [
    "criterion = torch.nn.CrossEntropyLoss()"
   ]
  },
  {
   "cell_type": "code",
   "execution_count": null,
   "id": "4b2ec3d4",
   "metadata": {},
   "outputs": [],
   "source": [
    "writer = SummaryWriter(\"runs/grading_experiment_1\")"
   ]
  },
  {
   "cell_type": "markdown",
   "id": "e8fcbf45",
   "metadata": {},
   "source": [
    "# Pretraining classifier"
   ]
  },
  {
   "cell_type": "code",
   "execution_count": null,
   "id": "1e4923c6",
   "metadata": {},
   "outputs": [],
   "source": [
    "def validate(grading_model, validation_dataloader, criterion, epoch=None):\n",
    "        grading_model.eval()\n",
    "        validation_loss = 0\n",
    "\n",
    "        predicted_values = []\n",
    "        targets = []\n",
    "        for batch_index, (input_batch, target_batch) in enumerate(validation_dataloader):\n",
    "            input_batch = input_batch.to(device)\n",
    "            target_batch = target_batch.to(device)\n",
    "\n",
    "            logits, _ = grading_model(input_batch)\n",
    "\n",
    "            loss = criterion(logits, target_batch)\n",
    "\n",
    "            normalized_output = torch.softmax(logits, dim=-1)\n",
    "\n",
    "            predicted_values.extend(normalized_output.cpu().detach().tolist())\n",
    "            \n",
    "            if len(target_batch) > 1:\n",
    "                targets += target_batch.squeeze().cpu().detach().tolist()\n",
    "            else:\n",
    "                targets.append(target_batch[0].cpu().detach().item())\n",
    "\n",
    "            validation_loss += loss.item()\n",
    "\n",
    "        mean_validation_loss = validation_loss / len(validation_dataloader)\n",
    "\n",
    "        predicted_values = torch.tensor(predicted_values)\n",
    "        targets = torch.tensor(targets)\n",
    "\n",
    "        f1_metric = MulticlassF1Score(num_classes=5)\n",
    "        f1_metric.update(predicted_values, targets)\n",
    "        f1_score = f1_metric.compute()\n",
    "\n",
    "        accuracy_metric = MulticlassAccuracy(num_classes=5)\n",
    "        accuracy_metric.update(predicted_values, targets)\n",
    "        accuracy_score = accuracy_metric.compute()\n",
    "        \n",
    "        auprc_metric = MulticlassAUPRC(num_classes=5)\n",
    "        auprc_metric.update(predicted_values, targets)\n",
    "        auprc_score = auprc_metric.compute()\n",
    "\n",
    "        auroc_metric = MulticlassAUROC(num_classes=5)\n",
    "        auroc_metric.update(predicted_values, targets)\n",
    "        auroc_score = auroc_metric.compute()\n",
    "\n",
    "        return mean_validation_loss, accuracy_score, f1_score, auprc_score, auroc_score"
   ]
  },
  {
   "cell_type": "code",
   "execution_count": null,
   "id": "c9087ce7",
   "metadata": {},
   "outputs": [],
   "source": [
    "def train(grading_model, train_dataloader, validation_dataloader, optimizer, criterion, n_epochs):\n",
    "    for epoch in range(n_epochs):\n",
    "        grading_model.train()\n",
    "        segmentation_model.eval()\n",
    "        for input_batch, target_batch in train_dataloader:\n",
    "            optimizer.zero_grad()\n",
    "\n",
    "            input_batch = input_batch.to(device)\n",
    "            target_batch = target_batch.to(device)\n",
    "\n",
    "            logits, _= grading_model(input_batch)\n",
    "\n",
    "            loss = criterion(logits, target_batch)\n",
    "            loss.backward()\n",
    "            optimizer.step()\n",
    "\n",
    "        mean_training_loss, train_accuracy_score, train_f1_score, train_auprc_score, train_auroc_score = validate(grading_model, train_dataloader, criterion)\n",
    "        mean_validation_loss, validation_accuracy_score, validation_f1_score, validation_auprc_score, validation_auroc_score = validate(grading_model, validation_dataloader, criterion, epoch)\n",
    "\n",
    "        writer.add_scalar(\"train/Loss\", mean_training_loss, epoch)\n",
    "        writer.add_scalar(\"train/Accuracy\", train_accuracy_score, epoch)\n",
    "        writer.add_scalar(\"train/F1 Score\", train_f1_score, epoch)\n",
    "        writer.add_scalar(\"train/AUPRC\", train_auprc_score, epoch)\n",
    "        writer.add_scalar(\"train/AUROC\", train_auroc_score, epoch)\n",
    "\n",
    "        writer.add_scalar(\"validation/Loss\", mean_validation_loss, epoch)\n",
    "        writer.add_scalar(\"validation/Accuracy\", validation_accuracy_score, epoch)\n",
    "        writer.add_scalar(\"validation/F1 Score\", validation_f1_score, epoch)\n",
    "        writer.add_scalar(\"validation/AUPRC\", validation_auprc_score, epoch)\n",
    "        writer.add_scalar(\"validation/AUROC\", validation_auroc_score, epoch)\n",
    "\n",
    "        print(f\"Epoch: {epoch}, Mean training loss: {mean_training_loss}, Mean validation loss: {mean_validation_loss}\")"
   ]
  },
  {
   "cell_type": "code",
   "execution_count": null,
   "id": "ac6ba8ab",
   "metadata": {},
   "outputs": [],
   "source": [
    "train(grading_model, train_dataloader, validation_dataloader, optimizer, criterion, 60)"
   ]
  },
  {
   "cell_type": "markdown",
   "id": "0ace6179",
   "metadata": {},
   "source": [
    "# Training with mask generator"
   ]
  },
  {
   "cell_type": "code",
   "execution_count": null,
   "id": "92889a00",
   "metadata": {},
   "outputs": [],
   "source": [
    "def validate(grading_model, validation_dataloader, criterion, epoch=None):\n",
    "        validation_loss = 0\n",
    "\n",
    "        predicted_values = []\n",
    "        targets = []\n",
    "\n",
    "        grading_model.eval()\n",
    "        for batch_index, (input_batch, target_batch) in enumerate(validation_dataloader):\n",
    "            input_batch = input_batch.to(device)\n",
    "            target_batch = target_batch.to(device)\n",
    "\n",
    "            masks = segmentation_model(input_batch)\n",
    "            logits, attention_maps = grading_model(input_batch, masks.detach())\n",
    "\n",
    "            if epoch is not None and epoch % 5 == 0 and batch_index == 0:\n",
    "                reference_image = input_batch[0].cpu().detach().numpy()\n",
    "                reference_image = reference_image.transpose(1, 2, 0)\n",
    "\n",
    "                # TODO: Add min max scaling\n",
    "                reference_image = (reference_image - reference_image.min()) / (reference_image.max() - reference_image.min())\n",
    "                reference_image = (reference_image * 255).astype('uint8')\n",
    "                cv2.imwrite(\"output_masks/reference_image.png\", reference_image)\n",
    "                \n",
    "                for i in range(5):\n",
    "                    attention_map = attention_maps[0][i].cpu().detach().numpy()\n",
    "                    # mask = mask.transpose(1, 2, 0)\n",
    "                    attention_map = (attention_map - attention_map.min()) / (attention_map.max() - attention_map.min())\n",
    "                    attention_map = (attention_map * 255).astype('uint8')\n",
    "                    cv2.imwrite(f\"output_masks/mask_{i}/mask_{epoch}.png\", attention_map)\n",
    "\n",
    "            if len(logits.shape) > 1:\n",
    "                loss = criterion(logits, target_batch)\n",
    "                normalized_output = torch.softmax(logits, dim=-1)\n",
    "            else:\n",
    "                logits = logits.unsqueeze(0)\n",
    "                loss = criterion(logits, target_batch)\n",
    "                normalized_output = torch.softmax(logits, dim=-1)\n",
    "\n",
    "            predicted_values.extend(normalized_output.cpu().detach().tolist())\n",
    "            \n",
    "            \n",
    "            if len(target_batch) > 1:\n",
    "                targets += target_batch.squeeze().cpu().detach().tolist()\n",
    "            else:\n",
    "                targets.append(target_batch[0].cpu().detach().item())\n",
    "\n",
    "            validation_loss += loss.item()\n",
    "\n",
    "        mean_validation_loss = validation_loss / len(validation_dataloader)\n",
    "\n",
    "        predicted_values = torch.tensor(predicted_values)\n",
    "        targets = torch.tensor(targets)\n",
    "\n",
    "        f1_metric = MulticlassF1Score(num_classes=5)\n",
    "        f1_metric.update(predicted_values, targets)\n",
    "        f1_score = f1_metric.compute()\n",
    "\n",
    "        accuracy_metric = MulticlassAccuracy(num_classes=5)\n",
    "        accuracy_metric.update(predicted_values, targets)\n",
    "        accuracy_score = accuracy_metric.compute()\n",
    "        \n",
    "        auprc_metric = MulticlassAUPRC(num_classes=5)\n",
    "        auprc_metric.update(predicted_values, targets)\n",
    "        auprc_score = auprc_metric.compute()\n",
    "\n",
    "        auroc_metric = MulticlassAUROC(num_classes=5)\n",
    "        auroc_metric.update(predicted_values, targets)\n",
    "        auroc_score = auroc_metric.compute()\n",
    "\n",
    "        return mean_validation_loss, accuracy_score, f1_score, auprc_score, auroc_score"
   ]
  },
  {
   "cell_type": "code",
   "execution_count": null,
   "id": "e5cc509c",
   "metadata": {},
   "outputs": [],
   "source": [
    "def train(grading_model, train_dataloader, validation_dataloader, optimizer, criterion, n_epochs):\n",
    "    for epoch in range(n_epochs):\n",
    "        grading_model.train()\n",
    "        segmentation_model.eval()\n",
    "        for input_batch, target_batch in train_dataloader:\n",
    "            optimizer.zero_grad()\n",
    "\n",
    "            input_batch = input_batch.to(device)\n",
    "            target_batch = target_batch.to(device)\n",
    "\n",
    "\n",
    "            masks = segmentation_model(input_batch)\n",
    "            logits, attention_maps = grading_model(input_batch, masks.detach())\n",
    "\n",
    "            if len(logits.shape) > 1:\n",
    "                loss = criterion(logits, target_batch)\n",
    "            else:\n",
    "                loss = criterion(logits.unsqueeze(0), target_batch)\n",
    "            loss.backward()\n",
    "            optimizer.step()\n",
    "\n",
    "        del input_batch\n",
    "        del target_batch\n",
    "        del masks\n",
    "        del logits\n",
    "        del attention_maps\n",
    "        torch.cuda.empty_cache()\n",
    "        \n",
    "        mean_training_loss, train_accuracy_score, train_f1_score, train_auprc_score, train_auroc_score = validate(grading_model, train_dataloader, criterion)\n",
    "        mean_validation_loss, validation_accuracy_score, validation_f1_score, validation_auprc_score, validation_auroc_score = validate(grading_model, validation_dataloader, criterion, epoch)\n",
    "\n",
    "        writer.add_scalar(\"train/Loss\", mean_training_loss, epoch)\n",
    "        writer.add_scalar(\"train/Accuracy\", train_accuracy_score, epoch)\n",
    "        writer.add_scalar(\"train/F1 Score\", train_f1_score, epoch)\n",
    "        writer.add_scalar(\"train/AUPRC\", train_auprc_score, epoch)\n",
    "        writer.add_scalar(\"train/AUROC\", train_auroc_score, epoch)\n",
    "\n",
    "        writer.add_scalar(\"validation/Loss\", mean_validation_loss, epoch)\n",
    "        writer.add_scalar(\"validation/Accuracy\", validation_accuracy_score, epoch)\n",
    "        writer.add_scalar(\"validation/F1 Score\", validation_f1_score, epoch)\n",
    "        writer.add_scalar(\"validation/AUPRC\", validation_auprc_score, epoch)\n",
    "        writer.add_scalar(\"validation/AUROC\", validation_auroc_score, epoch)\n",
    "\n",
    "        print(f\"Epoch: {epoch}, Mean training loss: {mean_training_loss}, Mean validation loss: {mean_validation_loss}\")"
   ]
  },
  {
   "cell_type": "code",
   "execution_count": null,
   "id": "4c4b0314",
   "metadata": {},
   "outputs": [],
   "source": [
    "train(grading_model, train_dataloader, validation_dataloader, optimizer, criterion, 100)"
   ]
  },
  {
   "cell_type": "code",
   "execution_count": null,
   "id": "1c021d19",
   "metadata": {},
   "outputs": [],
   "source": [
    "torch.save(grading_model.state_dict(), \"grading_model_2.pth\")"
   ]
  }
 ],
 "metadata": {
  "kernelspec": {
   "display_name": "venv",
   "language": "python",
   "name": "python3"
  },
  "language_info": {
   "codemirror_mode": {
    "name": "ipython",
    "version": 3
   },
   "file_extension": ".py",
   "mimetype": "text/x-python",
   "name": "python",
   "nbconvert_exporter": "python",
   "pygments_lexer": "ipython3",
   "version": "3.10.12"
  }
 },
 "nbformat": 4,
 "nbformat_minor": 5
}
