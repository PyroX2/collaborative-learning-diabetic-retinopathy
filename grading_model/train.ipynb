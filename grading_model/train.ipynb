{
 "cells": [
  {
   "cell_type": "code",
   "execution_count": null,
   "id": "1c3153b9",
   "metadata": {},
   "outputs": [],
   "source": [
    "from dataset import GradingDataset\n",
    "from grading_model import GradingModel\n",
    "import torch\n",
    "from torch import nn\n",
    "from torch.utils.data import DataLoader, random_split"
   ]
  },
  {
   "cell_type": "code",
   "execution_count": null,
   "id": "8d6d3872",
   "metadata": {},
   "outputs": [],
   "source": [
    "BATCH_SIZE = 8"
   ]
  },
  {
   "cell_type": "code",
   "execution_count": null,
   "id": "e486b6b0",
   "metadata": {},
   "outputs": [],
   "source": [
    "device = \"cuda\" if torch.cuda.is_available() else \"cpu\""
   ]
  },
  {
   "cell_type": "code",
   "execution_count": null,
   "id": "b50563e1",
   "metadata": {},
   "outputs": [],
   "source": [
    "train_images_dir = \"/home/wilk/diabetic_retinopathy/datasets/grading/train_set/images\"\n",
    "train_labels_csv = \"/home/wilk/diabetic_retinopathy/datasets/grading/train_set/ground_truths/a. IDRiD_Disease Grading_Training Labels.csv\"\n",
    "\n",
    "test_images_dir = \"/home/wilk/diabetic_retinopathy/datasets/grading/test_set/images\"\n",
    "test_labels_csv = \"/home/wilk/diabetic_retinopathy/datasets/grading/test_set/ground_truths/b. IDRiD_Disease Grading_Testing Labels.csv\""
   ]
  },
  {
   "cell_type": "code",
   "execution_count": null,
   "id": "b00d1f24",
   "metadata": {},
   "outputs": [],
   "source": [
    "train_dataset = GradingDataset(train_images_dir, train_labels_csv)\n",
    "\n",
    "train_dataset, validation_dataset = random_split(train_dataset, [0.8, 0.2])\n",
    "test_dataset = GradingDataset(test_images_dir, test_labels_csv)"
   ]
  },
  {
   "cell_type": "code",
   "execution_count": null,
   "id": "9cdc484f",
   "metadata": {},
   "outputs": [],
   "source": [
    "train_dataloader = DataLoader(train_dataset, BATCH_SIZE, shuffle=True)\n",
    "validation_dataloader = DataLoader(validation_dataset, BATCH_SIZE, shuffle=True)\n",
    "test_dataset = DataLoader(test_dataset, BATCH_SIZE, shuffle=False)"
   ]
  },
  {
   "cell_type": "code",
   "execution_count": null,
   "id": "7ece3a98",
   "metadata": {},
   "outputs": [],
   "source": [
    "grading_model = GradingModel()\n",
    "grading_model.to(device)"
   ]
  },
  {
   "cell_type": "code",
   "execution_count": null,
   "id": "2993259b",
   "metadata": {},
   "outputs": [],
   "source": [
    "optimizer = torch.optim.Adam(grading_model.parameters(), lr=1e-4)"
   ]
  },
  {
   "cell_type": "code",
   "execution_count": null,
   "id": "72db08ad",
   "metadata": {},
   "outputs": [],
   "source": [
    "criterion = torch.nn.CrossEntropyLoss()"
   ]
  },
  {
   "cell_type": "code",
   "execution_count": null,
   "id": "92889a00",
   "metadata": {},
   "outputs": [],
   "source": [
    "def validate(grading_model, validation_dataloader, criterion):\n",
    "        validation_loss = 0\n",
    "\n",
    "        grading_model.eval()\n",
    "        for input_batch, target_batch in train_dataloader:\n",
    "            input_batch = input_batch.to(device)\n",
    "            target_batch = target_batch.to(device)\n",
    "\n",
    "            logits, f_high = grading_model(input_batch)\n",
    "\n",
    "            loss = criterion(logits, target_batch)\n",
    "\n",
    "            validation_loss += loss.item()\n",
    "\n",
    "        mean_validation_loss = validation_loss / len(validation_dataloader)\n",
    "\n",
    "        return mean_validation_loss"
   ]
  },
  {
   "cell_type": "code",
   "execution_count": null,
   "id": "e5cc509c",
   "metadata": {},
   "outputs": [],
   "source": [
    "def train(grading_model, train_dataloader, validation_dataloader, optimizer, criterion, n_epochs):\n",
    "    for epoch in range(n_epochs):\n",
    "        training_epoch_loss = 0\n",
    "\n",
    "        grading_model.train()\n",
    "        for input_batch, target_batch in train_dataloader:\n",
    "            optimizer.zero_grad()\n",
    "\n",
    "            input_batch = input_batch.to(device)\n",
    "            target_batch = target_batch.to(device)\n",
    "\n",
    "            logits, f_high = grading_model(input_batch)\n",
    "\n",
    "            loss = criterion(logits, target_batch)\n",
    "            loss.backward()\n",
    "            optimizer.step()\n",
    "\n",
    "            training_epoch_loss += loss.item()\n",
    "\n",
    "        mean_training_loss = training_epoch_loss / len(train_dataloader)\n",
    "\n",
    "        mean_validation_loss = validate(grading_model, validation_dataloader, criterion)\n",
    "\n",
    "        print(f\"Epoch: {epoch}, Mean training loss: {mean_training_loss}, Mean validation loss: {mean_validation_loss}\")"
   ]
  },
  {
   "cell_type": "code",
   "execution_count": null,
   "id": "4c4b0314",
   "metadata": {},
   "outputs": [],
   "source": [
    "train(grading_model, train_dataloader, validation_dataloader, optimizer, criterion, 100)"
   ]
  }
 ],
 "metadata": {
  "kernelspec": {
   "display_name": "venv",
   "language": "python",
   "name": "python3"
  },
  "language_info": {
   "codemirror_mode": {
    "name": "ipython",
    "version": 3
   },
   "file_extension": ".py",
   "mimetype": "text/x-python",
   "name": "python",
   "nbconvert_exporter": "python",
   "pygments_lexer": "ipython3",
   "version": "3.10.12"
  }
 },
 "nbformat": 4,
 "nbformat_minor": 5
}
