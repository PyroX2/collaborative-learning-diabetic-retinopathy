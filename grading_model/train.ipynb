{
 "cells": [
  {
   "cell_type": "markdown",
   "id": "2bf9cafa",
   "metadata": {},
   "source": [
    "# Imports"
   ]
  },
  {
   "cell_type": "code",
   "execution_count": null,
   "id": "1c3153b9",
   "metadata": {},
   "outputs": [],
   "source": [
    "from dataset import GradingDataset\n",
    "from grading_model import GradingModel\n",
    "import torch\n",
    "from torch import nn\n",
    "from torch.utils.data import DataLoader, random_split\n",
    "from torcheval.metrics import MulticlassAccuracy, MulticlassAUPRC, MulticlassAUROC, MulticlassF1Score\n",
    "from torch.utils.tensorboard import SummaryWriter\n",
    "import cv2\n",
    "from tqdm import tqdm\n",
    "from torchvision.datasets import ImageFolder\n",
    "from torchvision.transforms import v2\n",
    "\n",
    "import mlflow"
   ]
  },
  {
   "cell_type": "code",
   "execution_count": null,
   "id": "db211c21",
   "metadata": {},
   "outputs": [],
   "source": [
    "mlflow.set_tracking_uri(\"http://localhost:5000\")"
   ]
  },
  {
   "cell_type": "code",
   "execution_count": null,
   "id": "b573ecb9",
   "metadata": {},
   "outputs": [],
   "source": [
    "torch.manual_seed(0)"
   ]
  },
  {
   "cell_type": "markdown",
   "id": "093f797f",
   "metadata": {},
   "source": [
    "### Modify path so that unet can be impoerted"
   ]
  },
  {
   "cell_type": "code",
   "execution_count": null,
   "id": "f618e0c4",
   "metadata": {},
   "outputs": [],
   "source": [
    "import os\n",
    "import sys\n",
    "\n",
    "project_root = os.path.abspath(os.path.join(os.getcwd(), \"..\"))\n",
    "\n",
    "# Add the project root to sys.path\n",
    "if project_root not in sys.path:\n",
    "    sys.path.insert(0, project_root)"
   ]
  },
  {
   "cell_type": "code",
   "execution_count": null,
   "id": "959ec236",
   "metadata": {},
   "outputs": [],
   "source": [
    "for path in sys.path:\n",
    "    print(path)"
   ]
  },
  {
   "cell_type": "code",
   "execution_count": null,
   "id": "072afa47",
   "metadata": {},
   "outputs": [],
   "source": [
    "from segmentation.unet import UNet"
   ]
  },
  {
   "cell_type": "markdown",
   "id": "ee96a318",
   "metadata": {},
   "source": [
    "# Main code"
   ]
  },
  {
   "cell_type": "code",
   "execution_count": null,
   "id": "8d6d3872",
   "metadata": {},
   "outputs": [],
   "source": [
    "BATCH_SIZE = 2\n",
    "MLFLOW = True\n",
    "TENSORBOARD = True\n",
    "LOG_NAME = \"attentive_grading_model_train\""
   ]
  },
  {
   "cell_type": "code",
   "execution_count": null,
   "id": "e486b6b0",
   "metadata": {},
   "outputs": [],
   "source": [
    "device = \"cuda\" if torch.cuda.is_available() else \"cpu\""
   ]
  },
  {
   "cell_type": "code",
   "execution_count": null,
   "id": "8c39a5fa",
   "metadata": {},
   "outputs": [],
   "source": [
    "transform = v2.Compose([\n",
    "    v2.ToTensor(), v2.Resize((640, 640)),])"
   ]
  },
  {
   "cell_type": "markdown",
   "id": "10e5c61c",
   "metadata": {},
   "source": [
    "# IDRID dataset"
   ]
  },
  {
   "cell_type": "code",
   "execution_count": null,
   "id": "6d0495d8",
   "metadata": {},
   "outputs": [],
   "source": [
    "# train_images_dir = \"/home/wilk/diabetic_retinopathy/datasets/grading/train_set/images\"\n",
    "# train_labels_csv = \"/home/wilk/diabetic_retinopathy/datasets/grading/train_set/labels/a. IDRiD_Disease Grading_Training Labels.csv\"\n",
    "\n",
    "# test_images_dir = \"/home/wilk/diabetic_retinopathy/datasets/grading/test_set/images\"\n",
    "# test_labels_csv = \"/home/wilk/diabetic_retinopathy/datasets/grading/test_set/labels/b. IDRiD_Disease Grading_Testing Labels.csv\""
   ]
  },
  {
   "cell_type": "code",
   "execution_count": null,
   "id": "9b74587c",
   "metadata": {},
   "outputs": [],
   "source": [
    "# train_dataset = GradingDataset(train_images_dir, train_labels_csv)\n",
    "\n",
    "# train_dataset, validation_dataset = random_split(train_dataset, [0.8, 0.2])\n",
    "# test_dataset = GradingDataset(test_images_dir, test_labels_csv)\n",
    "\n",
    "# train_metrics_dataset = train_dataset"
   ]
  },
  {
   "cell_type": "markdown",
   "id": "410be585",
   "metadata": {},
   "source": [
    "# Kaggle Joined dataset"
   ]
  },
  {
   "cell_type": "code",
   "execution_count": null,
   "id": "b6031606",
   "metadata": {},
   "outputs": [],
   "source": [
    "train_root = \"/home/wilk/diabetic_retinopathy/datasets/eyepacs_aptos_messidor_kaggle_dataset_processed/train\"\n",
    "validation_root = \"/home/wilk/diabetic_retinopathy/datasets/eyepacs_aptos_messidor_kaggle_dataset_processed/val\"\n",
    "test_root = \"/home/wilk/diabetic_retinopathy/datasets/eyepacs_aptos_messidor_kaggle_dataset_processed/test\""
   ]
  },
  {
   "cell_type": "code",
   "execution_count": null,
   "id": "287e3f51",
   "metadata": {},
   "outputs": [],
   "source": [
    "train_dataset = ImageFolder(train_root, transform=transform)\n",
    "validation_dataset = ImageFolder(validation_root, transform=transform)\n",
    "test_dataset = ImageFolder(test_root, transform=transform)"
   ]
  },
  {
   "cell_type": "code",
   "execution_count": null,
   "id": "c42ace3e",
   "metadata": {},
   "outputs": [],
   "source": [
    "_, train_metrics_dataset = random_split(train_dataset, [0.9, 0.1])"
   ]
  },
  {
   "cell_type": "code",
   "execution_count": null,
   "id": "b2dc36f9",
   "metadata": {},
   "outputs": [],
   "source": [
    "train_dataloader = DataLoader(train_dataset, BATCH_SIZE, shuffle=True)\n",
    "validation_dataloader = DataLoader(validation_dataset, BATCH_SIZE, shuffle=False)\n",
    "test_dataset = DataLoader(test_dataset, BATCH_SIZE, shuffle=False)\n",
    "train_metrics_dataloader = DataLoader(train_metrics_dataset, BATCH_SIZE, shuffle=False)"
   ]
  },
  {
   "cell_type": "code",
   "execution_count": null,
   "id": "7ece3a98",
   "metadata": {},
   "outputs": [],
   "source": [
    "grading_model_pretrained = GradingModel()\n",
    "grading_model_pretrained.to(device)\n",
    "grading_model_pretrained.load_state_dict(torch.load(\"/home/wilk/diabetic_retinopathy/grading_model/grading_model_pretrained.pth\"))"
   ]
  },
  {
   "cell_type": "code",
   "execution_count": null,
   "id": "302da68a",
   "metadata": {},
   "outputs": [],
   "source": [
    "grading_model = GradingModel()\n",
    "grading_model.to(device)\n",
    "grading_model.load_state_dict(torch.load(\"/home/wilk/diabetic_retinopathy/grading_model/grading_model_pretrained.pth\"))"
   ]
  },
  {
   "cell_type": "code",
   "execution_count": null,
   "id": "cc926546",
   "metadata": {},
   "outputs": [],
   "source": [
    "segmentation_model = UNet(3, 5)\n",
    "segmentation_model.to(device)\n",
    "segmentation_model.load_state_dict(torch.load(\"/home/wilk/diabetic_retinopathy/models/segmentation/pretrained/unet_pretrained.pth\", weights_only=True, map_location=device))"
   ]
  },
  {
   "cell_type": "code",
   "execution_count": null,
   "id": "2993259b",
   "metadata": {},
   "outputs": [],
   "source": [
    "optimizer = torch.optim.Adam(grading_model.parameters(), lr=1e-5)"
   ]
  },
  {
   "cell_type": "code",
   "execution_count": null,
   "id": "72db08ad",
   "metadata": {},
   "outputs": [],
   "source": [
    "criterion = torch.nn.CrossEntropyLoss()"
   ]
  },
  {
   "cell_type": "code",
   "execution_count": null,
   "id": "4b2ec3d4",
   "metadata": {},
   "outputs": [],
   "source": [
    "if TENSORBOARD:\n",
    "    writer = SummaryWriter(f\"runs/{LOG_NAME}\")"
   ]
  },
  {
   "cell_type": "markdown",
   "id": "0ace6179",
   "metadata": {},
   "source": [
    "# Training with mask generator"
   ]
  },
  {
   "cell_type": "code",
   "execution_count": null,
   "id": "92889a00",
   "metadata": {},
   "outputs": [],
   "source": [
    "def validate(grading_model, grading_model_pretrained, segmentation_model, validation_dataloader, criterion, epoch=None):\n",
    "        validation_loss = 0\n",
    "\n",
    "        predicted_values = []\n",
    "        targets = []\n",
    "\n",
    "        grading_model.eval()\n",
    "        with torch.no_grad():\n",
    "            for batch_index, (input_batch, target_batch) in tqdm(enumerate(validation_dataloader)):\n",
    "                input_batch = input_batch.to(device)\n",
    "                target_batch = target_batch.to(device)\n",
    "\n",
    "                masks = segmentation_model(input_batch)\n",
    "                pretrained_logits, pretrained_f_low, pretrained_f_high, _ = grading_model_pretrained(input_batch)\n",
    "\n",
    "                logits, _, _, attention_maps = grading_model(input_batch, masks, pretrained_f_low, pretrained_f_high)\n",
    "\n",
    "                if epoch is not None and epoch % 1 == 0 and batch_index == 0:\n",
    "                    reference_image = input_batch[0].cpu().detach().numpy()\n",
    "                    reference_image = reference_image.transpose(1, 2, 0)\n",
    "\n",
    "                    # TODO: Add min max scaling\n",
    "                    reference_image = (reference_image - reference_image.min()) / (reference_image.max() - reference_image.min())\n",
    "                    reference_image = (reference_image * 255).astype('uint8')\n",
    "                    cv2.imwrite(\"output_masks/reference_image.png\", reference_image)\n",
    "                    \n",
    "                    for i in range(5):\n",
    "                        attention_map = attention_maps[0][i].cpu().detach().numpy()\n",
    "                        # mask = mask.transpose(1, 2, 0)\n",
    "                        attention_map = (attention_map - attention_map.min()) / (attention_map.max() - attention_map.min())\n",
    "                        attention_map = (attention_map * 255).astype('uint8')\n",
    "                        cv2.imwrite(f\"output_masks/mask_{i}/mask_{epoch}.png\", attention_map)\n",
    "                \n",
    "                loss = criterion(logits, target_batch)\n",
    "                normalized_output = torch.softmax(logits, dim=-1)\n",
    "\n",
    "                predicted_values.extend(normalized_output.cpu().detach().tolist())\n",
    "                \n",
    "                \n",
    "                if len(target_batch) > 1:\n",
    "                    targets += target_batch.squeeze().cpu().detach().tolist()\n",
    "                else:\n",
    "                    targets.append(target_batch[0].cpu().detach().item())\n",
    "\n",
    "                validation_loss += loss.detach().item()\n",
    "\n",
    "                del input_batch, target_batch, masks, logits, attention_maps, loss, normalized_output\n",
    "                torch.cuda.empty_cache()\n",
    "\n",
    "        mean_validation_loss = validation_loss / len(validation_dataloader)\n",
    "\n",
    "        predicted_values = torch.tensor(predicted_values)\n",
    "        targets = torch.tensor(targets)\n",
    "\n",
    "        f1_metric = MulticlassF1Score(num_classes=5, average='macro')\n",
    "        f1_metric.update(predicted_values, targets)\n",
    "        f1_score = f1_metric.compute()\n",
    "\n",
    "        accuracy_metric = MulticlassAccuracy(num_classes=5, average='macro')\n",
    "        accuracy_metric.update(predicted_values, targets)\n",
    "        accuracy_score = accuracy_metric.compute()\n",
    "        \n",
    "        auprc_metric = MulticlassAUPRC(num_classes=5, average='macro')\n",
    "        auprc_metric.update(predicted_values, targets)\n",
    "        auprc_score = auprc_metric.compute()\n",
    "\n",
    "        auroc_metric = MulticlassAUROC(num_classes=5, average='macro')\n",
    "        auroc_metric.update(predicted_values, targets)\n",
    "        auroc_score = auroc_metric.compute()\n",
    "\n",
    "        return mean_validation_loss, accuracy_score, f1_score, auprc_score, auroc_score"
   ]
  },
  {
   "cell_type": "code",
   "execution_count": null,
   "id": "e5cc509c",
   "metadata": {},
   "outputs": [],
   "source": [
    "def train(grading_model, grading_model_pretrained, segmentation_model, train_dataloader, validation_dataloader, optimizer, criterion, n_epochs):\n",
    "    best_validation_loss = float(\"inf\")\n",
    "    best_model_state_dict = None\n",
    "    for epoch in range(n_epochs):\n",
    "        epoch_loss = 0\n",
    "\n",
    "        grading_model.train()\n",
    "        segmentation_model.eval()\n",
    "        grading_model_pretrained.eval()\n",
    "        for input_batch, target_batch in tqdm(train_dataloader):\n",
    "            optimizer.zero_grad()\n",
    "\n",
    "            input_batch = input_batch.to(device)\n",
    "            target_batch = target_batch.to(device)\n",
    "\n",
    "            with torch.no_grad():\n",
    "                masks = segmentation_model(input_batch)\n",
    "                pretrained_logits, pretrained_f_low, pretrained_f_high, _ = grading_model_pretrained(input_batch)\n",
    "                \n",
    "                masks = masks.detach()\n",
    "                pretrained_f_low = pretrained_f_low.detach()\n",
    "                pretrained_f_high = pretrained_f_high.detach()\n",
    "\n",
    "            logits, _, _, attention_maps = grading_model(input_batch, masks, pretrained_f_low, pretrained_f_high)\n",
    "\n",
    "            loss = criterion(logits, target_batch)\n",
    "\n",
    "            epoch_loss += loss.detach().item()\n",
    "\n",
    "            loss.backward()\n",
    "            optimizer.step()\n",
    "\n",
    "        del input_batch\n",
    "        del target_batch\n",
    "        # del masks\n",
    "        del logits\n",
    "        del attention_maps\n",
    "        torch.cuda.empty_cache()\n",
    "        \n",
    "        _, train_accuracy_score, train_f1_score, train_auprc_score, train_auroc_score = validate(grading_model, grading_model_pretrained, segmentation_model, train_dataloader, criterion)\n",
    "        mean_validation_loss, validation_accuracy_score, validation_f1_score, validation_auprc_score, validation_auroc_score = validate(grading_model, grading_model_pretrained, segmentation_model, validation_dataloader, criterion, epoch)\n",
    "\n",
    "        mean_training_loss = epoch_loss / len(train_dataloader) / BATCH_SIZE\n",
    "\n",
    "        if mean_validation_loss < best_validation_loss:\n",
    "            best_validation_loss = mean_validation_loss\n",
    "            torch.save(grading_model.state_dict(), \"grading_model_with_masks_ckpt.pth\")\n",
    "            best_model_state_dict = grading_model.state_dict()\n",
    "\n",
    "        if TENSORBOARD:\n",
    "            writer.add_scalar(\"train/Loss\", mean_training_loss, epoch)\n",
    "            writer.add_scalar(\"train/Accuracy\", train_accuracy_score, epoch)\n",
    "            writer.add_scalar(\"train/F1 Score\", train_f1_score, epoch)\n",
    "            writer.add_scalar(\"train/AUPRC\", train_auprc_score, epoch)\n",
    "            writer.add_scalar(\"train/AUROC\", train_auroc_score, epoch)\n",
    "\n",
    "            writer.add_scalar(\"validation/Loss\", mean_validation_loss, epoch)\n",
    "            writer.add_scalar(\"validation/Accuracy\", validation_accuracy_score, epoch)\n",
    "            writer.add_scalar(\"validation/F1 Score\", validation_f1_score, epoch)\n",
    "            writer.add_scalar(\"validation/AUPRC\", validation_auprc_score, epoch)\n",
    "            writer.add_scalar(\"validation/AUROC\", validation_auroc_score, epoch)\n",
    "\n",
    "        if MLFLOW:\n",
    "            mlflow.log_metric(\"train/Loss\", mean_training_loss, epoch)\n",
    "            mlflow.log_metric(\"train/Accuracy\", train_accuracy_score, epoch)\n",
    "            mlflow.log_metric(\"train/F1 Score\", train_f1_score, epoch)\n",
    "            mlflow.log_metric(\"train/AUPRC\", train_auprc_score, epoch)\n",
    "            mlflow.log_metric(\"train/AUROC\", train_auroc_score, epoch)\n",
    "            mlflow.log_metric(\"validation/Loss\", mean_validation_loss, epoch)\n",
    "            mlflow.log_metric(\"validation/Accuracy\", validation_accuracy_score, epoch)\n",
    "            mlflow.log_metric(\"validation/F1 Score\", validation_f1_score, epoch)\n",
    "            mlflow.log_metric(\"validation/AUPRC\", validation_auprc_score, epoch)\n",
    "            mlflow.log_metric(\"validation/AUROC\", validation_auroc_score, epoch)\n",
    "            \n",
    "        print(f\"Epoch: {epoch}, Mean training loss: {mean_training_loss}, Mean validation loss: {mean_validation_loss}\")\n",
    "\n",
    "    grading_model.load_state_dict(best_model_state_dict)"
   ]
  },
  {
   "cell_type": "code",
   "execution_count": null,
   "id": "4c4b0314",
   "metadata": {},
   "outputs": [],
   "source": [
    "train(grading_model, grading_model_pretrained, segmentation_model, train_dataloader, validation_dataloader, optimizer, criterion, 100)"
   ]
  },
  {
   "cell_type": "code",
   "execution_count": null,
   "id": "1c021d19",
   "metadata": {},
   "outputs": [],
   "source": [
    "torch.save(grading_model.state_dict(), \"grading_model_fine_tuned.pth\")"
   ]
  },
  {
   "cell_type": "code",
   "execution_count": null,
   "id": "3da326b4",
   "metadata": {},
   "outputs": [],
   "source": [
    "mlflow.pytorch.log_model(grading_model)"
   ]
  }
 ],
 "metadata": {
  "kernelspec": {
   "display_name": "venv",
   "language": "python",
   "name": "python3"
  },
  "language_info": {
   "codemirror_mode": {
    "name": "ipython",
    "version": 3
   },
   "file_extension": ".py",
   "mimetype": "text/x-python",
   "name": "python",
   "nbconvert_exporter": "python",
   "pygments_lexer": "ipython3",
   "version": "3.10.12"
  }
 },
 "nbformat": 4,
 "nbformat_minor": 5
}
