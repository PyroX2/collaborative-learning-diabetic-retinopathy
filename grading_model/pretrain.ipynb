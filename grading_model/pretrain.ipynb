{
 "cells": [
  {
   "cell_type": "code",
   "execution_count": null,
   "id": "1c3153b9",
   "metadata": {},
   "outputs": [],
   "source": [
    "from dataset import GradingDataset\n",
    "from grading_model import GradingModel\n",
    "import torch\n",
    "from torch import nn\n",
    "from torch.utils.data import DataLoader, random_split\n",
    "from torcheval.metrics import MulticlassAccuracy, MulticlassAUPRC, MulticlassAUROC, MulticlassF1Score\n",
    "from torch.utils.tensorboard import SummaryWriter\n",
    "from torchvision.datasets import ImageFolder\n",
    "from torchvision.transforms import v2\n",
    "from tqdm import tqdm\n",
    "\n",
    "import mlflow"
   ]
  },
  {
   "cell_type": "code",
   "execution_count": null,
   "id": "76fd7728",
   "metadata": {},
   "outputs": [],
   "source": [
    "torch.manual_seed(0)"
   ]
  },
  {
   "cell_type": "code",
   "execution_count": null,
   "id": "a3d272ff",
   "metadata": {},
   "outputs": [],
   "source": [
    "mlflow.set_tracking_uri(\"http://localhost:5000\")"
   ]
  },
  {
   "cell_type": "code",
   "execution_count": null,
   "id": "8d6d3872",
   "metadata": {},
   "outputs": [],
   "source": [
    "BATCH_SIZE = 16\n",
    "USE_MLFLOW = True\n",
    "USE_TENSORBOARD = True\n",
    "LOG_NAME = \"grading_model_pretrain\""
   ]
  },
  {
   "cell_type": "code",
   "execution_count": null,
   "id": "e486b6b0",
   "metadata": {},
   "outputs": [],
   "source": [
    "device = \"cuda\" if torch.cuda.is_available() else \"cpu\""
   ]
  },
  {
   "cell_type": "code",
   "execution_count": null,
   "id": "b2284a65",
   "metadata": {},
   "outputs": [],
   "source": [
    "transform = v2.Compose([\n",
    "    v2.Resize((640, 640)),\n",
    "    v2.ToTensor()])"
   ]
  },
  {
   "cell_type": "markdown",
   "id": "8b9bbbd0",
   "metadata": {},
   "source": [
    "# IDRID dataset"
   ]
  },
  {
   "cell_type": "code",
   "execution_count": null,
   "id": "b50563e1",
   "metadata": {},
   "outputs": [],
   "source": [
    "# train_images_dir = \"/home/wilk/diabetic_retinopathy/datasets/grading/train_set/images\"\n",
    "# train_labels_csv = \"/home/wilk/diabetic_retinopathy/datasets/grading/train_set/labels/a. IDRiD_Disease Grading_Training Labels.csv\"\n",
    "\n",
    "# test_images_dir = \"/home/wilk/diabetic_retinopathy/datasets/grading/test_set/images\"\n",
    "# test_labels_csv = \"/home/wilk/diabetic_retinopathy/datasets/grading/test_set/labels/b. IDRiD_Disease Grading_Testing Labels.csv\""
   ]
  },
  {
   "cell_type": "code",
   "execution_count": null,
   "id": "b00d1f24",
   "metadata": {},
   "outputs": [],
   "source": [
    "# train_dataset = GradingDataset(train_images_dir, train_labels_csv)\n",
    "\n",
    "# train_dataset, validation_dataset = random_split(train_dataset, [0.8, 0.2])\n",
    "# test_dataset = GradingDataset(test_images_dir, test_labels_csv)"
   ]
  },
  {
   "cell_type": "markdown",
   "id": "6321aa51",
   "metadata": {},
   "source": [
    "# Kaggle Joined dataset"
   ]
  },
  {
   "cell_type": "code",
   "execution_count": null,
   "id": "6c25d0de",
   "metadata": {},
   "outputs": [],
   "source": [
    "train_root = \"/home/wilk/diabetic_retinopathy/datasets/eyepacs_aptos_messidor_kaggle_dataset_processed/train\"\n",
    "validation_root = \"/home/wilk/diabetic_retinopathy/datasets/eyepacs_aptos_messidor_kaggle_dataset_processed/val\"\n",
    "test_root = \"/home/wilk/diabetic_retinopathy/datasets/eyepacs_aptos_messidor_kaggle_dataset_processed/test\""
   ]
  },
  {
   "cell_type": "code",
   "execution_count": null,
   "id": "0e9d767e",
   "metadata": {},
   "outputs": [],
   "source": [
    "train_dataset = ImageFolder(train_root, transform=transform)\n",
    "validation_dataset = ImageFolder(validation_root, transform=transform)\n",
    "test_dataset = ImageFolder(test_root, transform=transform)"
   ]
  },
  {
   "cell_type": "code",
   "execution_count": null,
   "id": "1924e44b",
   "metadata": {},
   "outputs": [],
   "source": [
    "_, train_metrics_dataset = random_split(train_dataset, [0.95, 0.05])"
   ]
  },
  {
   "cell_type": "code",
   "execution_count": null,
   "id": "9cdc484f",
   "metadata": {},
   "outputs": [],
   "source": [
    "train_dataloader = DataLoader(train_dataset, BATCH_SIZE, shuffle=True)\n",
    "validation_dataloader = DataLoader(validation_dataset, BATCH_SIZE, shuffle=True)\n",
    "test_dataset = DataLoader(test_dataset, BATCH_SIZE, shuffle=False)\n",
    "train_metrics_dataloader = DataLoader(train_metrics_dataset, BATCH_SIZE, shuffle=False)"
   ]
  },
  {
   "cell_type": "code",
   "execution_count": null,
   "id": "7ece3a98",
   "metadata": {},
   "outputs": [],
   "source": [
    "grading_model = GradingModel()\n",
    "grading_model.to(device)"
   ]
  },
  {
   "cell_type": "code",
   "execution_count": null,
   "id": "2993259b",
   "metadata": {},
   "outputs": [],
   "source": [
    "optimizer = torch.optim.Adam(grading_model.parameters(), lr=1e-5)"
   ]
  },
  {
   "cell_type": "code",
   "execution_count": null,
   "id": "72db08ad",
   "metadata": {},
   "outputs": [],
   "source": [
    "criterion = torch.nn.CrossEntropyLoss()"
   ]
  },
  {
   "cell_type": "code",
   "execution_count": null,
   "id": "4b2ec3d4",
   "metadata": {},
   "outputs": [],
   "source": [
    "if USE_TENSORBOARD:\n",
    "    writer = SummaryWriter(f\"runs/{LOG_NAME}\")"
   ]
  },
  {
   "cell_type": "code",
   "execution_count": null,
   "id": "92889a00",
   "metadata": {},
   "outputs": [],
   "source": [
    "def validate(grading_model, validation_dataloader, criterion):\n",
    "        validation_loss = 0\n",
    "\n",
    "        predicted_values = []\n",
    "        targets = []\n",
    "\n",
    "        grading_model.eval()\n",
    "        for input_batch, target_batch in validation_dataloader:\n",
    "            input_batch = input_batch.to(device)\n",
    "            target_batch = target_batch.to(device)\n",
    "\n",
    "            logits, f_low, f_high, _ = grading_model(input_batch)\n",
    "\n",
    "            loss = criterion(logits, target_batch)\n",
    "\n",
    "            normalized_output = torch.softmax(logits, dim=-1)\n",
    "\n",
    "            if normalized_output.shape[0] == 1:\n",
    "                predicted_values += normalized_output.cpu().detach().tolist()\n",
    "            else:\n",
    "                predicted_values += normalized_output.squeeze().cpu().detach().tolist()\n",
    "\n",
    "            if len(target_batch.shape) == 1:\n",
    "                targets += target_batch.cpu().detach().tolist()\n",
    "            else:\n",
    "                targets += target_batch.squeeze().cpu().detach().tolist()\n",
    "\n",
    "            validation_loss += loss.detach().item()\n",
    "\n",
    "            del loss\n",
    "            del input_batch\n",
    "            del target_batch\n",
    "            del logits\n",
    "            del f_high\n",
    "            del normalized_output\n",
    "            torch.cuda.empty_cache()\n",
    "\n",
    "        mean_validation_loss = validation_loss / len(validation_dataloader)\n",
    "\n",
    "        predicted_values = torch.tensor(predicted_values)\n",
    "        targets = torch.tensor(targets)\n",
    "\n",
    "        f1_metric = MulticlassF1Score(num_classes=5)\n",
    "        f1_metric.update(predicted_values, targets)\n",
    "        f1_score = f1_metric.compute()\n",
    "\n",
    "        accuracy_metric = MulticlassAccuracy(num_classes=5)\n",
    "        accuracy_metric.update(predicted_values, targets)\n",
    "        accuracy_score = accuracy_metric.compute()\n",
    "        \n",
    "        auprc_metric = MulticlassAUPRC(num_classes=5)\n",
    "        auprc_metric.update(predicted_values, targets)\n",
    "        auprc_score = auprc_metric.compute()\n",
    "\n",
    "        auroc_metric = MulticlassAUROC(num_classes=5)\n",
    "        auroc_metric.update(predicted_values, targets)\n",
    "        auroc_score = auroc_metric.compute()\n",
    "\n",
    "        return mean_validation_loss, accuracy_score, f1_score, auprc_score, auroc_score"
   ]
  },
  {
   "cell_type": "code",
   "execution_count": null,
   "id": "e5cc509c",
   "metadata": {},
   "outputs": [],
   "source": [
    "def train(grading_model, train_dataloader, validation_dataloader, optimizer, criterion, n_epochs):\n",
    "    best_validation_loss = float(\"inf\")\n",
    "    for epoch in range(n_epochs):\n",
    "        training_loss = 0\n",
    "        grading_model.train()\n",
    "        for input_batch, target_batch in tqdm(train_dataloader):\n",
    "            optimizer.zero_grad()\n",
    "\n",
    "            input_batch = input_batch.to(device)\n",
    "            target_batch = target_batch.to(device)\n",
    "\n",
    "            logits, f_low, f_high, _ = grading_model(input_batch)\n",
    "\n",
    "            loss = criterion(logits, target_batch)\n",
    "            training_loss += loss.detach().item()\n",
    "            loss.backward()\n",
    "            optimizer.step()\n",
    "\n",
    "        del input_batch\n",
    "        del target_batch\n",
    "        del logits\n",
    "        del f_high\n",
    "        del loss\n",
    "        torch.cuda.empty_cache()\n",
    "\n",
    "        mean_training_loss = training_loss / len(train_dataloader) / BATCH_SIZE\n",
    "\n",
    "        _, train_accuracy_score, train_f1_score, train_auprc_score, train_auroc_score = validate(grading_model, train_metrics_dataloader, criterion)\n",
    "        mean_validation_loss, validation_accuracy_score, validation_f1_score, validation_auprc_score, validation_auroc_score = validate(grading_model, validation_dataloader, criterion)\n",
    "\n",
    "        if USE_TENSORBOARD:\n",
    "            writer.add_scalar(\"train/Loss\", mean_training_loss, epoch)\n",
    "            writer.add_scalar(\"train/Accuracy\", train_accuracy_score, epoch)\n",
    "            writer.add_scalar(\"train/F1 Score\", train_f1_score, epoch)\n",
    "            writer.add_scalar(\"train/AUPRC\", train_auprc_score, epoch)\n",
    "            writer.add_scalar(\"train/AUROC\", train_auroc_score, epoch)\n",
    "\n",
    "            writer.add_scalar(\"validation/Loss\", mean_validation_loss, epoch)\n",
    "            writer.add_scalar(\"validation/Accuracy\", validation_accuracy_score, epoch)\n",
    "            writer.add_scalar(\"validation/F1 Score\", validation_f1_score, epoch)\n",
    "            writer.add_scalar(\"validation/AUPRC\", validation_auprc_score, epoch)\n",
    "            writer.add_scalar(\"validation/AUROC\", validation_auroc_score, epoch)\n",
    "\n",
    "        if USE_MLFLOW:\n",
    "            mlflow.log_metric(\"train/Loss\", mean_training_loss, epoch)\n",
    "            mlflow.log_metric(\"train/Accuracy\", train_accuracy_score, epoch)\n",
    "            mlflow.log_metric(\"train/F1 Score\", train_f1_score, epoch)\n",
    "            mlflow.log_metric(\"train/AUPRC\", train_auprc_score, epoch)\n",
    "            mlflow.log_metric(\"train/AUROC\", train_auroc_score, epoch)\n",
    "            mlflow.log_metric(\"validation/Loss\", mean_validation_loss, epoch)\n",
    "            mlflow.log_metric(\"validation/Accuracy\", validation_accuracy_score, epoch)\n",
    "            mlflow.log_metric(\"validation/F1 Score\", validation_f1_score, epoch)\n",
    "            mlflow.log_metric(\"validation/AUPRC\", validation_auprc_score, epoch)\n",
    "            mlflow.log_metric(\"validation/AUROC\", validation_auroc_score, epoch)\n",
    "\n",
    "        if mean_validation_loss < best_validation_loss:\n",
    "            best_validation_loss = mean_validation_loss\n",
    "            torch.save(grading_model.state_dict(), \"grading_model_ckpt.pth\")\n",
    "\n",
    "        print(f\"Epoch: {epoch}, Mean training loss: {mean_training_loss}, Mean validation loss: {mean_validation_loss}\")"
   ]
  },
  {
   "cell_type": "code",
   "execution_count": null,
   "id": "5b586d52",
   "metadata": {},
   "outputs": [],
   "source": [
    "import matplotlib.pyplot as plt"
   ]
  },
  {
   "cell_type": "code",
   "execution_count": null,
   "id": "7d9be01a",
   "metadata": {},
   "outputs": [],
   "source": [
    "example_images = next(iter(train_dataloader))[0]"
   ]
  },
  {
   "cell_type": "code",
   "execution_count": null,
   "id": "9ca25c61",
   "metadata": {},
   "outputs": [],
   "source": [
    "# for i in range(example_images.shape[0]):\n",
    "#     plt.subplot(2, 4, i + 1)\n",
    "#     plt.imshow(example_images[i].permute(1, 2, 0).cpu().numpy())\n",
    "#     plt.axis(\"off\")"
   ]
  },
  {
   "cell_type": "code",
   "execution_count": null,
   "id": "4c4b0314",
   "metadata": {},
   "outputs": [],
   "source": [
    "train(grading_model, train_dataloader, validation_dataloader, optimizer, criterion, 100)"
   ]
  },
  {
   "cell_type": "code",
   "execution_count": null,
   "id": "d2e0a85e",
   "metadata": {},
   "outputs": [],
   "source": [
    "torch.save(grading_model.state_dict(), \"grading_model_pretrained.pth\")"
   ]
  }
 ],
 "metadata": {
  "kernelspec": {
   "display_name": "venv",
   "language": "python",
   "name": "python3"
  },
  "language_info": {
   "codemirror_mode": {
    "name": "ipython",
    "version": 3
   },
   "file_extension": ".py",
   "mimetype": "text/x-python",
   "name": "python",
   "nbconvert_exporter": "python",
   "pygments_lexer": "ipython3",
   "version": "3.10.12"
  }
 },
 "nbformat": 4,
 "nbformat_minor": 5
}
