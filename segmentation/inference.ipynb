{
 "cells": [
  {
   "cell_type": "code",
   "execution_count": null,
   "id": "62ecf696",
   "metadata": {},
   "outputs": [],
   "source": [
    "import torch\n",
    "from segmentation.dataset import DRSegmentationDataset\n",
    "from segmentation.unet import UNet\n",
    "from sklearn.model_selection import KFold\n",
    "from torch.utils.tensorboard import SummaryWriter\n",
    "import numpy as np\n",
    "import matplotlib.pyplot as plt\n",
    "from segmentation.discriminator import Discriminator\n",
    "from torcheval.metrics import BinaryAccuracy, BinaryAUROC, BinaryF1Score, BinaryAUPRC"
   ]
  },
  {
   "cell_type": "code",
   "execution_count": null,
   "id": "d2639f97",
   "metadata": {},
   "outputs": [],
   "source": [
    "NUM_CLASSES = 4"
   ]
  },
  {
   "cell_type": "code",
   "execution_count": null,
   "id": "70755c6b",
   "metadata": {},
   "outputs": [],
   "source": [
    "test_dataset_path = ''\n",
    "model_path = ''"
   ]
  },
  {
   "cell_type": "code",
   "execution_count": null,
   "id": "edcd56f5",
   "metadata": {},
   "outputs": [],
   "source": [
    "test_dataset = DRSegmentationDataset(test_dataset_path, include_optic_disc=False)"
   ]
  },
  {
   "cell_type": "code",
   "execution_count": null,
   "id": "d1eb8354",
   "metadata": {},
   "outputs": [],
   "source": [
    "test_dataloader = torch.utils.data.DataLoader(\n",
    "                      test_dataset, \n",
    "                      batch_size=1)"
   ]
  },
  {
   "cell_type": "code",
   "execution_count": null,
   "id": "f41ee527",
   "metadata": {},
   "outputs": [],
   "source": [
    "loaded_model = UNet(3, NUM_CLASSES)\n",
    "loaded_model.load_state_dict(torch.load(model_path, weights_only=True, map_location='cpu'))\n"
   ]
  },
  {
   "cell_type": "code",
   "execution_count": null,
   "id": "99820634",
   "metadata": {},
   "outputs": [],
   "source": [
    "loaded_model.eval()\n",
    "loss = torch.nn.BCELoss()\n",
    "test_loss = 0\n",
    "\n",
    "with torch.no_grad():\n",
    "    for test_batch_id, test_batch in enumerate(test_dataloader):                \n",
    "        input_tensor = test_batch[0]\n",
    "        target_tensor = test_batch[1]\n",
    "\n",
    "        val_output = loaded_model(input_tensor)\n",
    "\n",
    "        loss_value = loss(val_output, target_tensor)\n",
    "        test_loss += loss_value.item() \n",
    "\n",
    "mean_test_loss = test_loss / len(test_dataloader)\n",
    "print(\"Mean test loss:\", mean_test_loss)"
   ]
  },
  {
   "cell_type": "code",
   "execution_count": null,
   "id": "bf19d5af",
   "metadata": {},
   "outputs": [],
   "source": [
    "targets = []\n",
    "outputs = []\n",
    "for test_batch_id, test_batch in enumerate(test_dataloader):        \n",
    "    if test_batch_id < 6:\n",
    "        continue        \n",
    "    input_tensor = test_batch[0]\n",
    "    target_tensor = test_batch[1]\n",
    "\n",
    "    test_output = loaded_model(input_tensor)\n",
    "    outputs += test_output.flatten().detach().cpu().tolist()\n",
    "    targets += target_tensor.flatten().detach().cpu().tolist()\n",
    "\n",
    "targets = list(map(int, targets))"
   ]
  },
  {
   "cell_type": "code",
   "execution_count": null,
   "id": "dc3cfc32",
   "metadata": {},
   "outputs": [],
   "source": [
    "import matplotlib.pyplot as plt\n",
    "from sklearn.metrics import roc_curve\n",
    "\n",
    "fpr, tpr, thresholds = roc_curve(targets, outputs)\n",
    "\n",
    "plt.figure(figsize=(8, 6))\n",
    "plt.plot(fpr, tpr, color=\"darkorange\", label=\"ROC curve\")\n",
    "plt.plot([0, 1], [0, 1], color=\"navy\", linestyle=\"--\", label=\"Chance\")\n",
    "plt.xlabel(\"False Positive Rate\")\n",
    "plt.ylabel(\"True Positive Rate\")\n",
    "plt.title(\"ROC Curve\")\n",
    "\n",
    "# Optionally, add selected thresholds as annotations\n",
    "for i in range(0, len(thresholds), max(1, len(thresholds)//10)):\n",
    "    plt.annotate(f\"{thresholds[i]:.2f}\", (fpr[i], tpr[i]))\n",
    "\n",
    "plt.legend()\n",
    "plt.show()"
   ]
  },
  {
   "cell_type": "code",
   "execution_count": null,
   "id": "93e8a606",
   "metadata": {},
   "outputs": [],
   "source": [
    "for test_batch_id, test_batch in enumerate(test_dataloader):        \n",
    "    if test_batch_id < 6:\n",
    "        continue        \n",
    "    input_tensor = test_batch[0]\n",
    "    target_tensor = test_batch[1]\n",
    "\n",
    "    test_output = loaded_model(input_tensor)\n",
    "\n",
    "    target_tensor = target_tensor.squeeze()\n",
    "    test_output = test_output.squeeze()\n",
    "\n",
    "    lesion_index = 0\n",
    "\n",
    "    fig = plt.figure(figsize=(20, 10))\n",
    "    plt.subplots_adjust(bottom=0.1, right=0.8, top=2)\n",
    "\n",
    "    ax = fig.add_subplot(1,3,1)\n",
    "    ax.imshow(input_tensor[0, ...].cpu().permute(1, 2, 0), cmap='gray')\n",
    "    ax.set_title(\"Wejściowy obraz\")\n",
    "    ax.axis('off')\n",
    "\n",
    "    ax = fig.add_subplot(1,3,2)\n",
    "    ax.imshow(target_tensor[lesion_index, ...].cpu(), cmap='gray')\n",
    "    ax.set_title(\"Poprawna maska\")\n",
    "    ax.axis('off')\n",
    "\n",
    "    ax = fig.add_subplot(1,3,3)\n",
    "    ax.imshow(test_output[lesion_index, ...].cpu().detach(), cmap='gray')\n",
    "    ax.set_title(\"Maska predykcji\")\n",
    "    ax.axis('off')"
   ]
  }
 ],
 "metadata": {
  "kernelspec": {
   "display_name": "venv",
   "language": "python",
   "name": "python3"
  },
  "language_info": {
   "codemirror_mode": {
    "name": "ipython",
    "version": 3
   },
   "file_extension": ".py",
   "mimetype": "text/x-python",
   "name": "python",
   "nbconvert_exporter": "python",
   "pygments_lexer": "ipython3",
   "version": "3.10.12"
  }
 },
 "nbformat": 4,
 "nbformat_minor": 5
}
