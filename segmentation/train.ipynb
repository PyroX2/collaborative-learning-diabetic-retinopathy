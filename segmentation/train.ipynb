{
 "cells": [
  {
   "cell_type": "code",
   "execution_count": 1,
   "metadata": {},
   "outputs": [],
   "source": [
    "import torch\n",
    "import cv2"
   ]
  },
  {
   "cell_type": "code",
   "execution_count": 2,
   "metadata": {},
   "outputs": [],
   "source": [
    "from dataset import DRSegmentationDataset"
   ]
  },
  {
   "cell_type": "code",
   "execution_count": 16,
   "metadata": {},
   "outputs": [],
   "source": [
    "test_dataset = DRSegmentationDataset(\"/Users/jakub/PG/collaborative_learning/diabetic_retinopathy/datasets/processed_segmentation_dataset/test_set\")\n",
    "train_dataset = DRSegmentationDataset(\"/Users/jakub/PG/collaborative_learning/diabetic_retinopathy/datasets/processed_segmentation_dataset/train_set\")"
   ]
  },
  {
   "cell_type": "code",
   "execution_count": 17,
   "metadata": {},
   "outputs": [],
   "source": [
    "test_dataset_loader = torch.utils.data.DataLoader(\n",
    "    test_dataset,\n",
    "    batch_size=16,\n",
    "    shuffle=True,\n",
    "    num_workers=0,\n",
    ")\n",
    "\n",
    "train_dataset_loader = torch.utils.data.DataLoader(\n",
    "    train_dataset,\n",
    "    batch_size=16,\n",
    "    shuffle=True,\n",
    "    num_workers=0,\n",
    ")"
   ]
  },
  {
   "cell_type": "code",
   "execution_count": 18,
   "metadata": {},
   "outputs": [
    {
     "name": "stdout",
     "output_type": "stream",
     "text": [
      "torch.Size([5, 640, 640])\n",
      "torch.Size([5, 640, 640])\n",
      "torch.Size([5, 640, 640])\n",
      "torch.Size([5, 640, 640])\n",
      "torch.Size([5, 640, 640])\n",
      "torch.Size([5, 640, 640])\n",
      "torch.Size([5, 640, 640])\n",
      "torch.Size([5, 640, 640])\n",
      "torch.Size([5, 640, 640])\n",
      "torch.Size([5, 640, 640])\n",
      "torch.Size([5, 640, 640])\n",
      "torch.Size([5, 640, 640])\n",
      "torch.Size([5, 640, 640])\n",
      "torch.Size([5, 640, 640])\n",
      "torch.Size([5, 640, 640])\n",
      "torch.Size([5, 640, 640])\n"
     ]
    }
   ],
   "source": [
    "input, target = next(iter(train_dataset_loader))"
   ]
  },
  {
   "cell_type": "markdown",
   "metadata": {},
   "source": [
    "# Show example image"
   ]
  },
  {
   "cell_type": "code",
   "execution_count": 19,
   "metadata": {},
   "outputs": [],
   "source": [
    "cv2.imshow(\"input\", input[1].numpy().transpose(1, 2, 0))\n",
    "cv2.imshow(\"target\", target[1][1, ...].numpy())\n",
    "cv2.waitKey(0)\n",
    "cv2.destroyAllWindows()"
   ]
  },
  {
   "cell_type": "code",
   "execution_count": null,
   "metadata": {},
   "outputs": [],
   "source": []
  }
 ],
 "metadata": {
  "kernelspec": {
   "display_name": "diabetic_retinopathy-CO2lWMrV",
   "language": "python",
   "name": "python3"
  },
  "language_info": {
   "codemirror_mode": {
    "name": "ipython",
    "version": 3
   },
   "file_extension": ".py",
   "mimetype": "text/x-python",
   "name": "python",
   "nbconvert_exporter": "python",
   "pygments_lexer": "ipython3",
   "version": "3.12.9"
  }
 },
 "nbformat": 4,
 "nbformat_minor": 2
}
