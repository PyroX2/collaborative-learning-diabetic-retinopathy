{
 "cells": [
  {
   "cell_type": "code",
   "execution_count": null,
   "id": "6ac95b4e",
   "metadata": {},
   "outputs": [],
   "source": [
    "import os\n",
    "import torch\n",
    "import shutil"
   ]
  },
  {
   "cell_type": "code",
   "execution_count": null,
   "id": "a9580d0a",
   "metadata": {},
   "outputs": [],
   "source": [
    "torch.manual_seed(0)"
   ]
  },
  {
   "cell_type": "code",
   "execution_count": null,
   "id": "6465c09f",
   "metadata": {},
   "outputs": [],
   "source": [
    "dataset_path = \"/home/wilk/diabetic_retinopathy/datasets/IDRiD/processed_segmentation_dataset/train_set\"\n",
    "output_val_path = \"/home/wilk/diabetic_retinopathy/datasets/IDRiD/processed_segmentation_dataset/val_set\""
   ]
  },
  {
   "cell_type": "code",
   "execution_count": null,
   "id": "cbcb29f5",
   "metadata": {},
   "outputs": [],
   "source": [
    "masks_dir_path = os.path.join(dataset_path, \"masks\")"
   ]
  },
  {
   "cell_type": "code",
   "execution_count": null,
   "id": "3098ba99",
   "metadata": {},
   "outputs": [],
   "source": [
    "num_images = len(os.listdir(os.path.join(dataset_path, \"images\")))"
   ]
  },
  {
   "cell_type": "code",
   "execution_count": null,
   "id": "91da3e66",
   "metadata": {},
   "outputs": [],
   "source": [
    "val_images_indexes = torch.randperm(num_images)[:int(num_images * 0.2)]"
   ]
  },
  {
   "cell_type": "code",
   "execution_count": null,
   "id": "057656d4",
   "metadata": {},
   "outputs": [],
   "source": [
    "images_paths = [os.path.join(dataset_path, \"images\", image_filaname) for image_filaname in sorted(os.listdir(os.path.join(dataset_path, \"images\")))]"
   ]
  },
  {
   "cell_type": "code",
   "execution_count": null,
   "id": "7c809075",
   "metadata": {},
   "outputs": [],
   "source": [
    "os.makedirs(os.path.join(output_val_path, \"images\"), exist_ok=True)"
   ]
  },
  {
   "cell_type": "code",
   "execution_count": null,
   "id": "dffd63f4",
   "metadata": {},
   "outputs": [],
   "source": [
    "suffixes = {\"microaneurysms\": \"_MA\", \"haemorrhages\":\"_HE\", \"hard_exudates\":\"_EX\", \"soft_exudates\":\"_SE\", \"optic_disc\": \"_OD\"}"
   ]
  },
  {
   "cell_type": "code",
   "execution_count": null,
   "id": "760e52e1",
   "metadata": {},
   "outputs": [],
   "source": [
    "for i in val_images_indexes:\n",
    "    image_path = images_paths[i]\n",
    "\n",
    "    image_filename = os.path.basename(image_path)\n",
    "    image_filename, ext = os.path.splitext(image_filename)\n",
    "    for key, mask_suffix in suffixes.items():\n",
    "        mask_path = os.path.join(masks_dir_path, key, image_filename+mask_suffix+\".png\")\n",
    "        output_mask_path = os.path.join(output_val_path, \"masks\", key)\n",
    "        os.makedirs(output_mask_path, exist_ok=True)\n",
    "        shutil.copy(mask_path, output_mask_path)\n",
    "\n",
    "    shutil.copy(image_path, os.path.join(output_val_path, \"images\", os.path.basename(image_path)))"
   ]
  }
 ],
 "metadata": {
  "kernelspec": {
   "display_name": "venv",
   "language": "python",
   "name": "python3"
  },
  "language_info": {
   "codemirror_mode": {
    "name": "ipython",
    "version": 3
   },
   "file_extension": ".py",
   "mimetype": "text/x-python",
   "name": "python",
   "nbconvert_exporter": "python",
   "pygments_lexer": "ipython3",
   "version": "3.10.12"
  }
 },
 "nbformat": 4,
 "nbformat_minor": 5
}
